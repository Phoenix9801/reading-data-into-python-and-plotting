{
 "cells": [
  {
   "cell_type": "code",
   "execution_count": 14,
   "metadata": {},
   "outputs": [
    {
     "name": "stdout",
     "output_type": "stream",
     "text": [
      "<_io.TextIOWrapper name='file2021.txt' mode='w' encoding='cp1252'>\n"
     ]
    }
   ],
   "source": [
    "#ANSWER TO THE FIRST PART\n",
    "\n",
    "from random import randint\n",
    "\n",
    "nums = open(\"file2021.txt\", \"w\")\n",
    "\n",
    "for i in range(1000):\n",
    "    nums.write(str(randint(0,1000)) + \"\\n\")\n",
    "print(nums)  "
   ]
  },
  {
   "cell_type": "code",
   "execution_count": 16,
   "metadata": {},
   "outputs": [
    {
     "name": "stdout",
     "output_type": "stream",
     "text": [
      "1000\n"
     ]
    }
   ],
   "source": [
    "#ANSWER TO THE SECOND PART\n",
    "\n",
    "import numpy as np\n",
    "with open(\"file2021.txt\", 'r') as nums_1_a:\n",
    "    data = nums_1_a.read()\n",
    "\n",
    "res = [int(i) for i in data.split()]\n",
    "test = np.array(res)\n",
    "nums_1 = np.max(test)\n",
    "print(nums_1)"
   ]
  },
  {
   "cell_type": "code",
   "execution_count": 15,
   "metadata": {},
   "outputs": [
    {
     "name": "stdout",
     "output_type": "stream",
     "text": [
      "2\n"
     ]
    }
   ],
   "source": [
    "#ANSWER TO THE THIRD PART\n",
    "\n",
    "nums_2 = open(\"file2021.txt\", \"r\")\n",
    "number = \"2\"\n",
    "count = 0\n",
    "l = nums_2.readlines()\n",
    "for i in l:\n",
    "    l2=i.split()\n",
    "    if number in l2:\n",
    "        count+=1\n",
    "print(count)"
   ]
  },
  {
   "cell_type": "code",
   "execution_count": null,
   "metadata": {},
   "outputs": [],
   "source": []
  }
 ],
 "metadata": {
  "kernelspec": {
   "display_name": "Python 3",
   "language": "python",
   "name": "python3"
  },
  "language_info": {
   "codemirror_mode": {
    "name": "ipython",
    "version": 3
   },
   "file_extension": ".py",
   "mimetype": "text/x-python",
   "name": "python",
   "nbconvert_exporter": "python",
   "pygments_lexer": "ipython3",
   "version": "3.8.3"
  }
 },
 "nbformat": 4,
 "nbformat_minor": 4
}
